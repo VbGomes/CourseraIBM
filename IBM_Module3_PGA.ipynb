{
  "metadata": {
    "kernelspec": {
      "name": "python",
      "display_name": "Pyolite",
      "language": "python"
    },
    "language_info": {
      "codemirror_mode": {
        "name": "python",
        "version": 3
      },
      "file_extension": ".py",
      "mimetype": "text/x-python",
      "name": "python",
      "nbconvert_exporter": "python",
      "pygments_lexer": "ipython3",
      "version": "3.8"
    }
  },
  "nbformat_minor": 4,
  "nbformat": 4,
  "cells": [
    {
      "cell_type": "markdown",
      "source": "<center>\n    <img src=\"https://s3-api.us-geo.objectstorage.softlayer.net/cf-courses-data/CognitiveClass/Logos/organization_logo/organization_logo.png\" width=\"300\" alt=\"cognitiveclass.ai logo\"  />\n</center>\n",
      "metadata": {}
    },
    {
      "cell_type": "markdown",
      "source": "#### Add your code below following the instructions given in the course\n",
      "metadata": {
        "tags": []
      }
    },
    {
      "cell_type": "markdown",
      "source": "# My Jupyter Notebook on IBM Watson Studio",
      "metadata": {
        "tags": []
      }
    },
    {
      "cell_type": "markdown",
      "source": "**Vinicius Gomes** <br> Data Analyst",
      "metadata": {}
    },
    {
      "cell_type": "markdown",
      "source": "*After being surrounded by many data reports in a previous job, I grew very interested in developing the skills required to do so myself. I humbly believe in my ability to understand what information is important to help a team and a company improve so I decided to walk towards the path to become a full-fledged Data Analyst.*",
      "metadata": {}
    },
    {
      "cell_type": "markdown",
      "source": "### The code below should display the message \"Thanks for your time! May your day be great!\"",
      "metadata": {}
    },
    {
      "cell_type": "code",
      "source": "print('Thanks for your time! May your day be great!')",
      "metadata": {
        "trusted": true
      },
      "execution_count": 3,
      "outputs": [
        {
          "name": "stdout",
          "text": "Thanks for your time! May your day be great!\n",
          "output_type": "stream"
        }
      ]
    },
    {
      "cell_type": "markdown",
      "source": "Horizontal line: <br>\n***\n* Bullet list 1\n* Bullet list 2\n* Bullet list 3\n1. Numbered list 1\n2. Numbered list 2\n3. Numbered list 3",
      "metadata": {}
    }
  ]
}